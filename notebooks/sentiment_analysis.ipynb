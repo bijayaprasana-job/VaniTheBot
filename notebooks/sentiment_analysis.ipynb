{
 "cells": [
  {
   "cell_type": "code",
   "execution_count": 1,
   "id": "6e7d3e73-3b11-4624-a7a9-32f4491fe199",
   "metadata": {},
   "outputs": [
    {
     "name": "stdout",
     "output_type": "stream",
     "text": [
      "<class 'pandas.core.series.Series'>\n",
      "Accuracy: 0.0\n",
      "\n",
      "Classification Report:\n",
      "               precision    recall  f1-score   support\n",
      "\n",
      "    negative       0.00      0.00      0.00       1.0\n",
      "    positive       0.00      0.00      0.00       0.0\n",
      "\n",
      "    accuracy                           0.00       1.0\n",
      "   macro avg       0.00      0.00      0.00       1.0\n",
      "weighted avg       0.00      0.00      0.00       1.0\n",
      "\n",
      "['positive']\n"
     ]
    },
    {
     "name": "stderr",
     "output_type": "stream",
     "text": [
      "C:\\Users\\bijay\\AppData\\Roaming\\Python\\Python310\\site-packages\\sklearn\\metrics\\_classification.py:1497: UndefinedMetricWarning: Precision is ill-defined and being set to 0.0 in labels with no predicted samples. Use `zero_division` parameter to control this behavior.\n",
      "  _warn_prf(average, modifier, f\"{metric.capitalize()} is\", len(result))\n",
      "C:\\Users\\bijay\\AppData\\Roaming\\Python\\Python310\\site-packages\\sklearn\\metrics\\_classification.py:1497: UndefinedMetricWarning: Recall is ill-defined and being set to 0.0 in labels with no true samples. Use `zero_division` parameter to control this behavior.\n",
      "  _warn_prf(average, modifier, f\"{metric.capitalize()} is\", len(result))\n",
      "C:\\Users\\bijay\\AppData\\Roaming\\Python\\Python310\\site-packages\\sklearn\\metrics\\_classification.py:1497: UndefinedMetricWarning: Precision is ill-defined and being set to 0.0 in labels with no predicted samples. Use `zero_division` parameter to control this behavior.\n",
      "  _warn_prf(average, modifier, f\"{metric.capitalize()} is\", len(result))\n",
      "C:\\Users\\bijay\\AppData\\Roaming\\Python\\Python310\\site-packages\\sklearn\\metrics\\_classification.py:1497: UndefinedMetricWarning: Recall is ill-defined and being set to 0.0 in labels with no true samples. Use `zero_division` parameter to control this behavior.\n",
      "  _warn_prf(average, modifier, f\"{metric.capitalize()} is\", len(result))\n",
      "C:\\Users\\bijay\\AppData\\Roaming\\Python\\Python310\\site-packages\\sklearn\\metrics\\_classification.py:1497: UndefinedMetricWarning: Precision is ill-defined and being set to 0.0 in labels with no predicted samples. Use `zero_division` parameter to control this behavior.\n",
      "  _warn_prf(average, modifier, f\"{metric.capitalize()} is\", len(result))\n",
      "C:\\Users\\bijay\\AppData\\Roaming\\Python\\Python310\\site-packages\\sklearn\\metrics\\_classification.py:1497: UndefinedMetricWarning: Recall is ill-defined and being set to 0.0 in labels with no true samples. Use `zero_division` parameter to control this behavior.\n",
      "  _warn_prf(average, modifier, f\"{metric.capitalize()} is\", len(result))\n"
     ]
    }
   ],
   "source": [
    "import numpy as np\n",
    "import pandas as pd\n",
    "from sklearn.model_selection import train_test_split\n",
    "from sklearn.feature_extraction.text import CountVectorizer, TfidfTransformer\n",
    "from sklearn.linear_model import LogisticRegression\n",
    "from sklearn.pipeline import Pipeline\n",
    "from sklearn.metrics import accuracy_score, classification_report\n",
    "\n",
    "\n",
    "# Sample dataset\n",
    "data = {\n",
    "'text': ['I love this movie', 'I hate this movie', \n",
    "'Best movie ever', 'Worst movie ever'],\n",
    "'sentiment': ['positive', 'negative', 'positive', 'negative']\n",
    "}\n",
    "df = pd.DataFrame(data)\n",
    "\n",
    "# Split the dataset\n",
    "X_train, X_test, y_train, y_test = train_test_split(\n",
    "df['text'], df['sentiment'], test_size=0.2, random_state=42)\n",
    "\n",
    "# Create a machine learning pipeline\n",
    "pipeline = Pipeline([\n",
    "('vect', CountVectorizer()),\n",
    "('tfidf', TfidfTransformer()),\n",
    "('clf', LogisticRegression())\n",
    "])\n",
    "\n",
    "# Train the model\n",
    "pipeline.fit(X_train, y_train)\n",
    "\n",
    "# Predict on the test dataset\n",
    "print(type(X_test))\n",
    "predictions = pipeline.predict(X_test)\n",
    "\n",
    "# Evaluate the model\n",
    "print(\"Accuracy:\", accuracy_score(y_test, predictions))\n",
    "print(\"\\nClassification Report:\\n\", classification_report(y_test, predictions))\n",
    "print(predictions)"
   ]
  },
  {
   "cell_type": "code",
   "execution_count": 2,
   "id": "913893a6-32d4-4d86-b7f6-c8b1f5a55bf3",
   "metadata": {},
   "outputs": [
    {
     "name": "stdout",
     "output_type": "stream",
     "text": [
      "WARNING:tensorflow:From C:\\Users\\bijay\\AppData\\Roaming\\Python\\Python310\\site-packages\\keras\\src\\losses.py:2976: The name tf.losses.sparse_softmax_cross_entropy is deprecated. Please use tf.compat.v1.losses.sparse_softmax_cross_entropy instead.\n",
      "\n"
     ]
    }
   ],
   "source": [
    "import numpy as np \n",
    "import pandas as pd \n",
    "import seaborn as sns\n",
    "import matplotlib.pyplot as plt\n",
    "import os\n",
    "import re\n",
    "import string\n",
    "import spacy\n",
    "import nltk\n",
    "import numpy as np \n",
    "import pandas as pd \n",
    "import seaborn as sns\n",
    "import matplotlib.pyplot as plt\n",
    "from spacy import displacy\n",
    "import plotly.express as px \n",
    "from wordcloud import WordCloud\n",
    "from sklearn.model_selection import train_test_split\n",
    "from sklearn.pipeline import Pipeline\n",
    "from sklearn.feature_extraction.text import TfidfVectorizer\n",
    "from sklearn.svm import LinearSVC\n",
    "from sklearn.metrics import classification_report\n",
    "from nltk.sentiment.vader import SentimentIntensityAnalyzer\n",
    "from sklearn.linear_model import LogisticRegression\n",
    "from collections import Counter\n",
    "import warnings\n",
    "from sklearn.metrics import confusion_matrix , ConfusionMatrixDisplay\n",
    "import scikitplot as skplt\n",
    "from sklearn.metrics import roc_curve\n",
    "from sklearn.metrics import roc_auc_score\n"
   ]
  },
  {
   "cell_type": "code",
   "execution_count": 3,
   "id": "4307a632-d20c-4fcb-ab8d-41648096b085",
   "metadata": {},
   "outputs": [
    {
     "name": "stderr",
     "output_type": "stream",
     "text": [
      "[nltk_data] Downloading package vader_lexicon to\n",
      "[nltk_data]     C:\\Users\\bijay\\AppData\\Roaming\\nltk_data...\n",
      "[nltk_data]   Package vader_lexicon is already up-to-date!\n"
     ]
    },
    {
     "data": {
      "text/html": [
       "<div>\n",
       "<style scoped>\n",
       "    .dataframe tbody tr th:only-of-type {\n",
       "        vertical-align: middle;\n",
       "    }\n",
       "\n",
       "    .dataframe tbody tr th {\n",
       "        vertical-align: top;\n",
       "    }\n",
       "\n",
       "    .dataframe thead th {\n",
       "        text-align: right;\n",
       "    }\n",
       "</style>\n",
       "<table border=\"1\" class=\"dataframe\">\n",
       "  <thead>\n",
       "    <tr style=\"text-align: right;\">\n",
       "      <th></th>\n",
       "      <th>Description</th>\n",
       "      <th>Sentiment</th>\n",
       "      <th>seintiment_target</th>\n",
       "    </tr>\n",
       "  </thead>\n",
       "  <tbody>\n",
       "    <tr>\n",
       "      <th>0</th>\n",
       "      <td>So there is no way for me to plug it in here i...</td>\n",
       "      <td>Unhappy</td>\n",
       "      <td>1</td>\n",
       "    </tr>\n",
       "    <tr>\n",
       "      <th>1</th>\n",
       "      <td>Good case</td>\n",
       "      <td>Unhappy</td>\n",
       "      <td>1</td>\n",
       "    </tr>\n",
       "    <tr>\n",
       "      <th>2</th>\n",
       "      <td>Great for the jawbone.</td>\n",
       "      <td>Happy</td>\n",
       "      <td>0</td>\n",
       "    </tr>\n",
       "    <tr>\n",
       "      <th>3</th>\n",
       "      <td>Tied to charger for conversations lasting more...</td>\n",
       "      <td>Unhappy</td>\n",
       "      <td>1</td>\n",
       "    </tr>\n",
       "    <tr>\n",
       "      <th>4</th>\n",
       "      <td>The mic is great.</td>\n",
       "      <td>Happy</td>\n",
       "      <td>0</td>\n",
       "    </tr>\n",
       "  </tbody>\n",
       "</table>\n",
       "</div>"
      ],
      "text/plain": [
       "                                         Description Sentiment  \\\n",
       "0  So there is no way for me to plug it in here i...   Unhappy   \n",
       "1                                          Good case   Unhappy   \n",
       "2                             Great for the jawbone.     Happy   \n",
       "3  Tied to charger for conversations lasting more...   Unhappy   \n",
       "4                                  The mic is great.     Happy   \n",
       "\n",
       "   seintiment_target  \n",
       "0                  1  \n",
       "1                  1  \n",
       "2                  0  \n",
       "3                  1  \n",
       "4                  0  "
      ]
     },
     "execution_count": 3,
     "metadata": {},
     "output_type": "execute_result"
    }
   ],
   "source": [
    "nltk.download(\"vader_lexicon\")\n",
    "warnings.filterwarnings('ignore')\n",
    "data = pd.read_csv(\"../data/raw/sentiment_train_Final.csv\")\n",
    "data = data.loc[:, ~data.columns.str.match('Unnamed')]\n",
    "data.head(5)\n",
    "\n",
    "from sklearn.preprocessing import LabelEncoder\n",
    "data.shape\n",
    "data.describe()\n",
    "le = LabelEncoder()\n",
    "data['seintiment_target'] = le.fit_transform(data.Sentiment)\n",
    "data.head(5)"
   ]
  },
  {
   "cell_type": "code",
   "execution_count": 4,
   "id": "a15b0ed1-16d3-4c22-a190-ee549f322e5b",
   "metadata": {},
   "outputs": [],
   "source": [
    "def drop_nulls(data):\n",
    "    empty_list = []\n",
    "    print(data.itertuples())\n",
    "    for rows in data.itertuples():\n",
    "        if type(rows)==str:\n",
    "            if rows.isspace():\n",
    "                empty_list.append(reviews)\n",
    "    print('Is there any missing value?\\n')\n",
    "    if len(empty_list)==0:\n",
    "        print('-- 🔬There is no missing value in this dataframe🔬 --')\n",
    "    else:\n",
    "        print('Dataframe includes null values😡. Missing value count is :{} \\n Missing value percentage is : {}'.format(len(empty_list),len(empty_list)/len(data)))\n",
    "        data.drop(empty_list,inplace=True)\n",
    "    return data"
   ]
  },
  {
   "cell_type": "code",
   "execution_count": 5,
   "id": "1ca310a1-5939-4cbc-a349-de36cce78b6c",
   "metadata": {},
   "outputs": [
    {
     "name": "stdout",
     "output_type": "stream",
     "text": [
      "<map object at 0x00000205851134C0>\n",
      "Is there any missing value?\n",
      "\n",
      "-- 🔬There is no missing value in this dataframe🔬 --\n"
     ]
    }
   ],
   "source": [
    "data = drop_nulls(data)"
   ]
  },
  {
   "cell_type": "code",
   "execution_count": 6,
   "id": "7ed5ed22-ed97-4dc1-889a-55379c902dd4",
   "metadata": {},
   "outputs": [
    {
     "data": {
      "image/png": "[encoded data removed]",
      "text/plain": [
       "<Figure size 200x200 with 2 Axes>"
      ]
     },
     "metadata": {},
     "output_type": "display_data"
    },
    {
     "name": "stdout",
     "output_type": "stream",
     "text": [
      "\u001b[36m              precision    recall  f1-score   support\n",
      "\n",
      "           0       0.96      0.91      0.93        98\n",
      "           1       0.90      0.95      0.92        82\n",
      "\n",
      "    accuracy                           0.93       180\n",
      "   macro avg       0.93      0.93      0.93       180\n",
      "weighted avg       0.93      0.93      0.93       180\n",
      "\n",
      "\u001b[4m\u001b[91m\u001b[1mOverall accuracy is 93% 💣\n",
      "\n",
      "---> 0.983271375464684\n",
      "Random Forest Classifier DONE!\n"
     ]
    },
    {
     "data": {
      "image/png": "[encoded data removed]",
      "text/plain": [
       "<Figure size 200x200 with 2 Axes>"
      ]
     },
     "metadata": {},
     "output_type": "display_data"
    },
    {
     "name": "stdout",
     "output_type": "stream",
     "text": [
      "\u001b[36m              precision    recall  f1-score   support\n",
      "\n",
      "           0       0.98      0.95      0.96        96\n",
      "           1       0.94      0.98      0.96        84\n",
      "\n",
      "    accuracy                           0.96       180\n",
      "   macro avg       0.96      0.96      0.96       180\n",
      "weighted avg       0.96      0.96      0.96       180\n",
      "\n",
      "\u001b[4m\u001b[91m\u001b[1mOverall accuracy is 96% 💣\n",
      "\n",
      "K Nearest Neighbor Classifier DONE!\n"
     ]
    },
    {
     "data": {
      "image/png": "[encoded data removed]",
      "text/plain": [
       "<Figure size 200x200 with 2 Axes>"
      ]
     },
     "metadata": {},
     "output_type": "display_data"
    },
    {
     "name": "stdout",
     "output_type": "stream",
     "text": [
      "\u001b[36m              precision    recall  f1-score   support\n",
      "\n",
      "           0       0.98      0.95      0.96        96\n",
      "           1       0.94      0.98      0.96        84\n",
      "\n",
      "    accuracy                           0.96       180\n",
      "   macro avg       0.96      0.96      0.96       180\n",
      "weighted avg       0.96      0.96      0.96       180\n",
      "\n",
      "\u001b[4m\u001b[91m\u001b[1mOverall accuracy is 96% 💣\n",
      "\n"
     ]
    }
   ],
   "source": [
    "class PredictReview:\n",
    "    \n",
    "    def vectorize(self,train_data,test_data):\n",
    "        tfidf = TfidfVectorizer()\n",
    "        train = tfidf.fit_transform(train_data.values.astype('U'))\n",
    "        test = tfidf.transform(test_data.values.astype('U'))\n",
    "        return train,test,tfidf\n",
    "    \n",
    "    def split(self,data,train_size=0.1,shuffle=101):\n",
    "        input_data = data['Description']\n",
    "        output_data = data['seintiment_target']\n",
    "        train_data, test_data, train_output, test_output = train_test_split(input_data, output_data, test_size=train_size, random_state=shuffle)\n",
    "        return train_data, test_data, train_output, test_output\n",
    "    \n",
    "    def base(self,data): \n",
    "        from sklearn.ensemble import GradientBoostingClassifier\n",
    "        from sklearn.svm import SVC\n",
    "        from sklearn.ensemble import RandomForestClassifier\n",
    "        from sklearn.neighbors import KNeighborsClassifier\n",
    "        from sklearn.linear_model import LogisticRegression\n",
    "        from sklearn import metrics\n",
    "        log_reg = LogisticRegression(solver='lbfgs', penalty='l2', C=1.5)\n",
    "        data = self.prepare_data_for_train(data)\n",
    "        train_data, test_data, train_output, test_output = self.split(data)\n",
    "        train,test,tfidf = self.vectorize(train_data,test_data)\n",
    "        log_reg.fit(train,train_output)\n",
    "        pred = log_reg.predict(test)\n",
    "        y_probas = log_reg.predict_proba(test)\n",
    "        self.performance(pred,test,test_output,log_reg)\n",
    "        print(\"--->\",log_reg.score(train,train_output))\n",
    "       # Y_test_le = le.transform(list(test_output))\n",
    "        #fpr, tpr, thresholds = metrics.roc_curve(Y_test_le, pred)\n",
    "        # RandomForestClassifier\n",
    "        random_forest = RandomForestClassifier(n_estimators=10)\n",
    "        random_forest.fit(train,train_output)\n",
    "        Y_predict_random_forest = random_forest.predict(test)\n",
    "        print('Random Forest Classifier DONE!')\n",
    "        self.performance(Y_predict_random_forest,test,test_output,random_forest)\n",
    "        k_neighbors = KNeighborsClassifier()\n",
    "        k_neighbors.fit(train,train_output)\n",
    "        Y_predict_k_neighbors = k_neighbors.predict(test)\n",
    "        print('K Nearest Neighbor Classifier DONE!')\n",
    "        self.performance(Y_predict_random_forest,test,test_output,k_neighbors)\n",
    "        #print('Random Forest Classifier:      ', metrics.accuracy_score(test, Y_predict_random_forest))      \n",
    "        return log_reg,tfidf\n",
    "    \n",
    "   \n",
    "    def prepare_data_for_train(self,input_data):\n",
    "        \n",
    "        nlp = spacy.load('en_core_web_sm')\n",
    "        stopword = nltk.corpus.stopwords.words('english')\n",
    "        empty_list  = []\n",
    "        for text in input_data.Description:\n",
    "            text = text.lower()\n",
    "            text = re.sub('\\[.*?\\]', '', text)\n",
    "            text = re.sub('https?://\\S+|www\\.\\S+', '', text)\n",
    "            text = re.sub('<.*?>+', '', text)\n",
    "            text = re.sub('[%s]' % re.escape(string.punctuation), '', text)\n",
    "            text = re.sub('\\n', '', text)\n",
    "            text = re.sub('\\w*\\d\\w*', '', text)\n",
    "            text = re.sub(r'[^\\w\\s]', '',str(text))            \n",
    "            text=re.split(\"\\W+\",text)                          \n",
    "            text=[word for word in text if word not in stopword]\n",
    "            text = ' '.join(text)       \n",
    "            empty_list.append(text)\n",
    "        #input_data.drop('review',axis=1,inplace=True)\n",
    "        input_data['Description'] = empty_list\n",
    "        return input_data\n",
    "        \n",
    "    def performance(self,_data,test_data,test_output,model):\n",
    "        plt.rcParams['figure.figsize']=(2,2)\n",
    "        cm = confusion_matrix(_data,test_output,labels=model.classes_)\n",
    "        disp = ConfusionMatrixDisplay(confusion_matrix=cm,display_labels=model.classes_)\n",
    "        disp.plot()\n",
    "        plt.show()\n",
    "       # print(plot_precision_recall_curve(model,test_data,test_output))        \n",
    "        # print(plot_roc_curve(model,test_data,test_output))\n",
    "        print('\\033[36m'+classification_report(_data,test_output))\n",
    "        print('\\033[4m'+'\\033[91m'+'\\033[1m' +'Overall accuracy is {}% 💣\\n'.format(round(accuracy_score(_data,test_output)*100),0))\n",
    "        plt.show()\n",
    "             \n",
    "    def test_sample(self,text,tfidf,base_model):\n",
    "        text = self.clean_df(text)\n",
    "        text_sample = tfidf.transform([text])\n",
    "        pred = base_model.predict(text_sample)\n",
    "        if pred[0] == 1:\n",
    "            return 'negative'\n",
    "        else:\n",
    "            return 'positive'\n",
    "        \n",
    "    def  clean_df(self,text):\n",
    "        text = text.lower()\n",
    "        nlp = spacy.load('en_core_web_sm')\n",
    "        stopword = nltk.corpus.stopwords.words('english')\n",
    "        text = re.sub(r'[^\\w\\s]', '',str(text))            \n",
    "        text=re.split(\"\\W+\",text)                          \n",
    "        text=[word for word in text if word not in stopword]\n",
    "        text = ' '.join(text)                              \n",
    "        return text\n",
    "review_predictor = PredictReview()\n",
    "model,coverter = review_predictor.base(data)"
   ]
  },
  {
   "cell_type": "code",
   "execution_count": 7,
   "id": "7a6d11a4-5898-4cc1-b86d-1c0309729344",
   "metadata": {},
   "outputs": [],
   "source": [
    "def quick_preictor(text):\n",
    "    answer = review_predictor.test_sample(text,coverter,model)\n",
    "    if answer == 'negative':\n",
    "        print('\\033[1m'+'\\033[91m'+'Prediction is : '+answer+\"\\n\")\n",
    "        print(text)\n",
    "    else:\n",
    "        print('\\033[1m'+'\\033[92m'+'Prediction is : '+answer+\"\\n\")\n",
    "        print(text)"
   ]
  },
  {
   "cell_type": "code",
   "execution_count": 14,
   "id": "60835351-7c5b-42e0-8a67-0e7c689a6271",
   "metadata": {},
   "outputs": [
    {
     "name": "stdout",
     "output_type": "stream",
     "text": [
      "\u001b[1m\u001b[91mPrediction is : negative\n",
      "\n",
      "you are so lucky\n"
     ]
    }
   ],
   "source": [
    "text = 'you are so lucky'\n",
    "quick_preictor(text)"
   ]
  }
 ],
 "metadata": {
  "kernelspec": {
   "display_name": "Python 3 (ipykernel)",
   "language": "python",
   "name": "python3"
  },
  "language_info": {
   "codemirror_mode": {
    "name": "ipython",
    "version": 3
   },
   "file_extension": ".py",
   "mimetype": "text/x-python",
   "name": "python",
   "nbconvert_exporter": "python",
   "pygments_lexer": "ipython3",
   "version": "3.10.11"
  }
 },
 "nbformat": 4,
 "nbformat_minor": 5
}
