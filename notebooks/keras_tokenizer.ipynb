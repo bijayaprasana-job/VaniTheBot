{
 "cells": [
  {
   "cell_type": "code",
   "execution_count": 2,
   "id": "c224ab86-0772-4b6f-81a1-7d67818894e8",
   "metadata": {},
   "outputs": [
    {
     "name": "stdout",
     "output_type": "stream",
     "text": [
      "WARNING:tensorflow:From C:\\Users\\bijay\\AppData\\Roaming\\Python\\Python310\\site-packages\\keras\\src\\losses.py:2976: The name tf.losses.sparse_softmax_cross_entropy is deprecated. Please use tf.compat.v1.losses.sparse_softmax_cross_entropy instead.\n",
      "\n",
      "['data_full.json', 'IMDB Dataset.csv', 'intents.json', 'intent_analysis_ds.csv', 'RAMAYANA.txt', 'ramayan_data_dict.json', 'sentiment_train_Final.csv', 'Sen_Type_Class_ds_Final.csv', 'train_sentiment_FINAL.csv', 'user_text_categories.xlsx']\n"
     ]
    },
    {
     "data": {
      "text/html": [
       "<div>\n",
       "<style scoped>\n",
       "    .dataframe tbody tr th:only-of-type {\n",
       "        vertical-align: middle;\n",
       "    }\n",
       "\n",
       "    .dataframe tbody tr th {\n",
       "        vertical-align: top;\n",
       "    }\n",
       "\n",
       "    .dataframe thead th {\n",
       "        text-align: right;\n",
       "    }\n",
       "</style>\n",
       "<table border=\"1\" class=\"dataframe\">\n",
       "  <thead>\n",
       "    <tr style=\"text-align: right;\">\n",
       "      <th></th>\n",
       "      <th>review</th>\n",
       "      <th>sentiment</th>\n",
       "    </tr>\n",
       "  </thead>\n",
       "  <tbody>\n",
       "    <tr>\n",
       "      <th>0</th>\n",
       "      <td>One of the other reviewers has mentioned that ...</td>\n",
       "      <td>positive</td>\n",
       "    </tr>\n",
       "    <tr>\n",
       "      <th>1</th>\n",
       "      <td>A wonderful little production. &lt;br /&gt;&lt;br /&gt;The...</td>\n",
       "      <td>positive</td>\n",
       "    </tr>\n",
       "    <tr>\n",
       "      <th>2</th>\n",
       "      <td>I thought this was a wonderful way to spend ti...</td>\n",
       "      <td>positive</td>\n",
       "    </tr>\n",
       "    <tr>\n",
       "      <th>3</th>\n",
       "      <td>Basically there's a family where a little boy ...</td>\n",
       "      <td>negative</td>\n",
       "    </tr>\n",
       "    <tr>\n",
       "      <th>4</th>\n",
       "      <td>Petter Mattei's \"Love in the Time of Money\" is...</td>\n",
       "      <td>positive</td>\n",
       "    </tr>\n",
       "  </tbody>\n",
       "</table>\n",
       "</div>"
      ],
      "text/plain": [
       "                                              review sentiment\n",
       "0  One of the other reviewers has mentioned that ...  positive\n",
       "1  A wonderful little production. <br /><br />The...  positive\n",
       "2  I thought this was a wonderful way to spend ti...  positive\n",
       "3  Basically there's a family where a little boy ...  negative\n",
       "4  Petter Mattei's \"Love in the Time of Money\" is...  positive"
      ]
     },
     "execution_count": 2,
     "metadata": {},
     "output_type": "execute_result"
    }
   ],
   "source": [
    "import os\n",
    "import pandas as pd\n",
    "from sklearn.model_selection import train_test_split\n",
    "import pandas as pd\n",
    "import numpy as np\n",
    "import matplotlib.pyplot as plt\n",
    "import seaborn as sns\n",
    "from sklearn.preprocessing import LabelEncoder\n",
    "from keras.preprocessing.text import Tokenizer\n",
    "from keras.preprocessing.sequence import pad_sequences\n",
    "from sklearn.model_selection import train_test_split\n",
    "from keras import models, layers\n",
    "print(os.listdir('../data/raw/'))\n",
    "imdb_data=pd.read_csv('../data/raw/IMDB Dataset.csv')\n",
    "imdb_data.head(5)"
   ]
  },
  {
   "cell_type": "code",
   "execution_count": 3,
   "id": "fd630406-c77c-4ae6-b1d2-f4c8473fd1e1",
   "metadata": {},
   "outputs": [
    {
     "data": {
      "text/html": [
       "<div>\n",
       "<style scoped>\n",
       "    .dataframe tbody tr th:only-of-type {\n",
       "        vertical-align: middle;\n",
       "    }\n",
       "\n",
       "    .dataframe tbody tr th {\n",
       "        vertical-align: top;\n",
       "    }\n",
       "\n",
       "    .dataframe thead th {\n",
       "        text-align: right;\n",
       "    }\n",
       "</style>\n",
       "<table border=\"1\" class=\"dataframe\">\n",
       "  <thead>\n",
       "    <tr style=\"text-align: right;\">\n",
       "      <th></th>\n",
       "      <th>review</th>\n",
       "      <th>sentiment</th>\n",
       "      <th>seintiment_target</th>\n",
       "    </tr>\n",
       "  </thead>\n",
       "  <tbody>\n",
       "    <tr>\n",
       "      <th>0</th>\n",
       "      <td>One of the other reviewers has mentioned that ...</td>\n",
       "      <td>positive</td>\n",
       "      <td>1</td>\n",
       "    </tr>\n",
       "    <tr>\n",
       "      <th>1</th>\n",
       "      <td>A wonderful little production. &lt;br /&gt;&lt;br /&gt;The...</td>\n",
       "      <td>positive</td>\n",
       "      <td>1</td>\n",
       "    </tr>\n",
       "    <tr>\n",
       "      <th>2</th>\n",
       "      <td>I thought this was a wonderful way to spend ti...</td>\n",
       "      <td>positive</td>\n",
       "      <td>1</td>\n",
       "    </tr>\n",
       "    <tr>\n",
       "      <th>3</th>\n",
       "      <td>Basically there's a family where a little boy ...</td>\n",
       "      <td>negative</td>\n",
       "      <td>0</td>\n",
       "    </tr>\n",
       "    <tr>\n",
       "      <th>4</th>\n",
       "      <td>Petter Mattei's \"Love in the Time of Money\" is...</td>\n",
       "      <td>positive</td>\n",
       "      <td>1</td>\n",
       "    </tr>\n",
       "  </tbody>\n",
       "</table>\n",
       "</div>"
      ],
      "text/plain": [
       "                                              review sentiment  \\\n",
       "0  One of the other reviewers has mentioned that ...  positive   \n",
       "1  A wonderful little production. <br /><br />The...  positive   \n",
       "2  I thought this was a wonderful way to spend ti...  positive   \n",
       "3  Basically there's a family where a little boy ...  negative   \n",
       "4  Petter Mattei's \"Love in the Time of Money\" is...  positive   \n",
       "\n",
       "   seintiment_target  \n",
       "0                  1  \n",
       "1                  1  \n",
       "2                  1  \n",
       "3                  0  \n",
       "4                  1  "
      ]
     },
     "execution_count": 3,
     "metadata": {},
     "output_type": "execute_result"
    }
   ],
   "source": [
    "from sklearn.preprocessing import LabelEncoder\n",
    "imdb_data.shape\n",
    "imdb_data.describe()\n",
    "le = LabelEncoder()\n",
    "imdb_data['seintiment_target'] = le.fit_transform(imdb_data.sentiment)\n",
    "imdb_data.head(5)"
   ]
  },
  {
   "cell_type": "code",
   "execution_count": 18,
   "id": "2bb9f6ae-7533-48fc-b643-9f5e1326a5b1",
   "metadata": {},
   "outputs": [
    {
     "data": {
      "text/plain": [
       "sentiment\n",
       "positive    25000\n",
       "negative    25000\n",
       "Name: count, dtype: int64"
      ]
     },
     "execution_count": 18,
     "metadata": {},
     "output_type": "execute_result"
    }
   ],
   "source": [
    "imdb_data.sentiment.value_counts()"
   ]
  },
  {
   "cell_type": "code",
   "execution_count": 49,
   "id": "f28a752f-6b5c-4a95-82f1-31bf7e6fdf96",
   "metadata": {},
   "outputs": [
    {
     "name": "stdout",
     "output_type": "stream",
     "text": [
      "(37500,) (37500,)\n",
      "(12500,) (12500,)\n"
     ]
    },
    {
     "name": "stderr",
     "output_type": "stream",
     "text": [
      "C:\\Users\\bijay\\AppData\\Local\\Temp\\ipykernel_10740\\3179988128.py:10: FutureWarning: \n",
      "\n",
      "Passing `palette` without assigning `hue` is deprecated and will be removed in v0.14.0. Assign the `x` variable to `hue` and set `legend=False` for the same effect.\n",
      "\n",
      "  sns.countplot(x='sentiment',  data=imdb_data , palette = \"Set2\")\n"
     ]
    },
    {
     "data": {
      "image/png": "[encoded data removed]",
      "text/plain": [
       "<Figure size 600x400 with 1 Axes>"
      ]
     },
     "metadata": {},
     "output_type": "display_data"
    }
   ],
   "source": [
    "print(X_train.shape,y_train.shape)\n",
    "print(X_test.shape,y_test.shape)\n",
    "y_train.head(5)\n",
    "plt.figure(figsize=(6,4))\n",
    "sns.countplot(x='sentiment',  data=imdb_data , palette = \"Set2\")\n",
    "plt.show()"
   ]
  },
  {
   "cell_type": "code",
   "execution_count": 54,
   "id": "26373165-876e-4454-8c19-fca36b410abc",
   "metadata": {},
   "outputs": [
    {
     "data": {
      "text/plain": [
       "124252"
      ]
     },
     "execution_count": 54,
     "metadata": {},
     "output_type": "execute_result"
    }
   ],
   "source": [
    "import nltk\n",
    "stopword_list=nltk.corpus.stopwords.words('english')\n",
    "keras_token = Tokenizer(num_words=10000)\n",
    "keras_token.fit_on_texts(imdb_data.review)\n",
    "len(keras_token.word_index)"
   ]
  },
  {
   "cell_type": "code",
   "execution_count": 61,
   "id": "1608d2bb-9dd2-4d3d-b40b-5dc794303969",
   "metadata": {},
   "outputs": [
    {
     "data": {
      "text/plain": [
       "array([  10,  190,   11,   13,    3,  393,   95,    5, 1155,   55,   20,\n",
       "          3,   96,  879, 1494, 2657, 1241,    8,    1,  903,  769,    2,\n",
       "        147,    3,  649, 2333,  202,    1,  111,    6, 4086,   18,    1,\n",
       "        410,    6, 1915,    2,    1,  102,   23, 1485,   57,    1,   69,\n",
       "       6126, 6686, 1574,  494,  136,   47,  200,   26,  680,   50,   33,\n",
       "        959,   11,    6,   21, 1026,  220,  230, 2917, 5196,   10,  190,\n",
       "          9,   13, 3059,   12, 2971, 2050,    6,  130, 1403,    8, 1139,\n",
       "          4,    1,  396,  106,    4,  176,   25, 2079,    5,  112,    7,\n",
       "          7,   11,   13,    1,   88,  482, 1451,   30,   27,    4, 1317,\n",
       "          8,  153, 3024,   10,  131,    3, 2121,  136,  198,  110,   75,\n",
       "       1508,   16, 8927,    8,   11,   59, 1323,    5, 1260,  175,   40,\n",
       "       1257, 1428,    2, 5078,  203,   82,    3,  848,   18, 3611,  186,\n",
       "        257,    7,    7,   11,  200,   21,   26,    1, 7241, 5176,    4,\n",
       "         24,  628,   18,    9,   13,   71, 2244, 2930,    2,   51,  218,\n",
       "         71, 2658,    3,   78,  202,    5,  139,   63,   16,  350,    0,\n",
       "          0,    0,    0,    0,    0,    0,    0,    0,    0,    0,    0,\n",
       "          0,    0,    0,    0,    0,    0,    0,    0,    0,    0,    0,\n",
       "          0,    0,    0,    0,    0,    0,    0,    0,    0,    0,    0,\n",
       "          0,    0,    0,    0,    0,    0,    0,    0,    0,    0,    0,\n",
       "          0,    0,    0,    0,    0,    0,    0,    0,    0,    0,    0,\n",
       "          0,    0,    0,    0,    0,    0,    0,    0,    0,    0,    0,\n",
       "          0,    0,    0,    0,    0,    0,    0,    0,    0,    0,    0,\n",
       "          0,    0,    0,    0,    0,    0,    0,    0,    0,    0,    0,\n",
       "          0,    0,    0,    0,    0,    0,    0,    0,    0,    0,    0,\n",
       "          0,    0,    0,    0,    0,    0,    0,    0,    0,    0,    0,\n",
       "          0,    0,    0,    0,    0,    0,    0,    0,    0,    0,    0,\n",
       "          0,    0,    0,    0,    0,    0,    0,    0,    0,    0,    0,\n",
       "          0,    0,    0,    0,    0,    0,    0,    0,    0,    0,    0,\n",
       "          0,    0,    0,    0,    0,    0,    0,    0,    0,    0,    0,\n",
       "          0,    0,    0,    0,    0,    0,    0,    0,    0,    0,    0,\n",
       "          0,    0,    0,    0,    0,    0,    0,    0,    0,    0,    0,\n",
       "          0,    0,    0,    0,    0,    0,    0,    0,    0,    0,    0,\n",
       "          0,    0,    0,    0,    0,    0,    0,    0,    0,    0,    0,\n",
       "          0,    0,    0,    0,    0,    0,    0,    0,    0,    0,    0,\n",
       "          0,    0,    0,    0,    0,    0,    0,    0,    0,    0,    0,\n",
       "          0,    0,    0,    0,    0,    0,    0,    0,    0,    0,    0,\n",
       "          0,    0,    0,    0,    0,    0,    0,    0,    0,    0,    0,\n",
       "          0,    0,    0,    0,    0,    0,    0,    0,    0,    0,    0,\n",
       "          0,    0,    0,    0,    0,    0,    0,    0,    0,    0,    0,\n",
       "          0,    0,    0,    0,    0,    0,    0,    0,    0,    0,    0,\n",
       "          0,    0,    0,    0,    0,    0,    0,    0,    0,    0,    0,\n",
       "          0,    0,    0,    0,    0,    0,    0,    0,    0,    0,    0,\n",
       "          0,    0,    0,    0,    0,    0,    0,    0,    0,    0,    0,\n",
       "          0,    0,    0,    0,    0,    0,    0,    0,    0,    0,    0,\n",
       "          0,    0,    0,    0,    0,    0,    0,    0,    0,    0,    0,\n",
       "          0,    0,    0,    0,    0])"
      ]
     },
     "execution_count": 61,
     "metadata": {},
     "output_type": "execute_result"
    }
   ],
   "source": [
    "keras_result = keras_token.texts_to_sequences(imdb_data.review)\n",
    "keras_pad_result = pad_sequences(keras_result, maxlen=500, padding='post')\n",
    "type(keras_pad_result)\n",
    "keras_pad_result[2]"
   ]
  },
  {
   "cell_type": "markdown",
   "id": "d7f06bf4-7b37-4e68-b91d-f171e6506da2",
   "metadata": {},
   "source": [
    "X_train, X_test,y_train, y_test = train_test_split(keras_pad_result,imdb_data['seintiment_target'] , random_state=104,  \n",
    "                                   test_size=0.25,  \n",
    "                                   shuffle=True) \n",
    "\n",
    "(37500, 500) (37500,)\r\n",
    "(12500, 500) (12500,)\r\n",
    "<class 'pandas.core.series.Series'>\r\n",
    "<class 'numpy.ndarray'>"
   ]
  },
  {
   "cell_type": "code",
   "execution_count": 68,
   "id": "cc81c78f-8f3d-446a-abda-3756998f5cdb",
   "metadata": {},
   "outputs": [
    {
     "name": "stdout",
     "output_type": "stream",
     "text": [
      "(37500, 500) (37500,)\n",
      "(12500, 500) (12500,)\n",
      "<class 'numpy.ndarray'>\n",
      "<class 'numpy.ndarray'>\n"
     ]
    }
   ],
   "source": [
    "X_train, X_test,y_train, y_test = train_test_split(keras_pad_result,imdb_data['seintiment_target'].values , random_state=104,  \n",
    "                                   test_size=0.25,  \n",
    "                                   shuffle=True) \n",
    "\n",
    "print(X_train.shape, y_train.shape)\n",
    "print(X_test.shape, y_test.shape)\n",
    "print(type(y_train))\n",
    "print(type(X_train))"
   ]
  },
  {
   "cell_type": "code",
   "execution_count": 77,
   "id": "988f729f-369b-488c-b716-db73a4036648",
   "metadata": {},
   "outputs": [
    {
     "name": "stdout",
     "output_type": "stream",
     "text": [
      "Model: \"sequential_7\"\n",
      "_________________________________________________________________\n",
      " Layer (type)                Output Shape              Param #   \n",
      "=================================================================\n",
      " embedding_7 (Embedding)     (None, 500, 50)           500000    \n",
      "                                                                 \n",
      " conv1d_14 (Conv1D)          (None, 493, 24)           9624      \n",
      "                                                                 \n",
      " dropout_21 (Dropout)        (None, 493, 24)           0         \n",
      "                                                                 \n",
      " max_pooling1d_7 (MaxPoolin  (None, 164, 24)           0         \n",
      " g1D)                                                            \n",
      "                                                                 \n",
      " conv1d_15 (Conv1D)          (None, 157, 16)           3088      \n",
      "                                                                 \n",
      " dropout_22 (Dropout)        (None, 157, 16)           0         \n",
      "                                                                 \n",
      " bidirectional_14 (Bidirect  (None, 157, 48)           7872      \n",
      " ional)                                                          \n",
      "                                                                 \n",
      " bidirectional_15 (Bidirect  (None, 24)                5856      \n",
      " ional)                                                          \n",
      "                                                                 \n",
      " dense_14 (Dense)            (None, 16)                400       \n",
      "                                                                 \n",
      " dropout_23 (Dropout)        (None, 16)                0         \n",
      "                                                                 \n",
      " dense_15 (Dense)            (None, 1)                 17        \n",
      "                                                                 \n",
      "=================================================================\n",
      "Total params: 526857 (2.01 MB)\n",
      "Trainable params: 526857 (2.01 MB)\n",
      "Non-trainable params: 0 (0.00 Byte)\n",
      "_________________________________________________________________\n",
      "2500/2500 [==============================] - 434s 168ms/step - loss: 0.3899 - accuracy: 0.8234 - val_loss: 0.2634 - val_accuracy: 0.8912\n"
     ]
    },
    {
     "data": {
      "text/plain": [
       "<keras.src.callbacks.History at 0x1bbbc349c30>"
      ]
     },
     "execution_count": 77,
     "metadata": {},
     "output_type": "execute_result"
    }
   ],
   "source": [
    "model = models.Sequential()\n",
    "model.add(layers.Embedding(10000, 50, input_length=500))\n",
    "model.add(layers.Conv1D(24, 8, activation='relu'))\n",
    "model.add(layers.Dropout(0.2))\n",
    "model.add(layers.MaxPool1D(3))\n",
    "model.add(layers.Conv1D(16, 8, activation='relu'))\n",
    "model.add(layers.Dropout(0.2))\n",
    "model.add(layers.Bidirectional(layers.LSTM(24, return_sequences=True, dropout=0.2, recurrent_dropout=0.2)))\n",
    "model.add(layers.Bidirectional(layers.LSTM(12, dropout=0.2, recurrent_dropout=0.2)))\n",
    "model.add(layers.Dense(16, activation='relu'))\n",
    "model.add(layers.Dropout(0.2))\n",
    "model.add(layers.Dense(1, activation='sigmoid'))\n",
    "model.summary()\n",
    "model.compile(loss='binary_crossentropy', optimizer='adam', metrics=['accuracy'])\n",
    "model.fit(X_train, y_train, batch_size=15, epochs=1, validation_data=(X_test, y_test))"
   ]
  },
  {
   "cell_type": "code",
   "execution_count": null,
   "id": "c0d81f6d-9d52-4f7c-aa31-ec958ee2eb62",
   "metadata": {},
   "outputs": [
    {
     "name": "stdout",
     "output_type": "stream",
     "text": [
      "1176/1563 [=====================>........] - ETA: 18s"
     ]
    }
   ],
   "source": [
    "import random\n",
    "idx_test = random.randint(0, 9)\n",
    "idx_original = X_test[idx_test]\n",
    "#print(\"-->\" ,imdb_data.iloc[idx_original])\n",
    "# (actual_rev, actual_sent) = imdb_data.iloc[idx_original]\n",
    "prediction = model.predict(keras_pad_result)[idx_test][0]\n",
    "prediction_sent = 'positive' if prediction >= 0.5 else 'negative'\n",
    "probability = round(prediction if prediction >= 0.5 else 1-prediction, 2)\n",
    "# # Printing the original review, its predicted sentiment and probability, and original sentiment\n",
    "print(imdb_data.iloc[5])\n",
    "(actual_rev,actual_sent) = imdb_data.iloc[5]\n",
    "print('\\033[1m' + 'Review :' % idx_original + '\\033[0m' + '\\n', actual_rev, '\\n')\n",
    "print('\\033[1m' + 'Predicted sentiment:' + '\\033[0m', prediction_sent, '(with probability %.2f)' % probability, '\\n')\n",
    "print('\\033[1m' + 'Actual sentiment:' + '\\033[0m', actual_sent)"
   ]
  }
 ],
 "metadata": {
  "kernelspec": {
   "display_name": "Python 3 (ipykernel)",
   "language": "python",
   "name": "python3"
  },
  "language_info": {
   "codemirror_mode": {
    "name": "ipython",
    "version": 3
   },
   "file_extension": ".py",
   "mimetype": "text/x-python",
   "name": "python",
   "nbconvert_exporter": "python",
   "pygments_lexer": "ipython3",
   "version": "3.10.11"
  }
 },
 "nbformat": 4,
 "nbformat_minor": 5
}
